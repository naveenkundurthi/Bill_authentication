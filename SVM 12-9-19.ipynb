{
 "cells": [
  {
   "cell_type": "markdown",
   "metadata": {},
   "source": [
    "## support vector machine"
   ]
  },
  {
   "cell_type": "code",
   "execution_count": 31,
   "metadata": {},
   "outputs": [],
   "source": [
    "import numpy as np \n",
    "import pandas as pd\n",
    "import matplotlib.pyplot as plt\n",
    "%matplotlib inline"
   ]
  },
  {
   "cell_type": "code",
   "execution_count": 32,
   "metadata": {},
   "outputs": [],
   "source": [
    "bankdata=pd.read_csv('C:/Users/hp 15-r032tx/Downloads/bill_authentication.csv')"
   ]
  },
  {
   "cell_type": "code",
   "execution_count": 35,
   "metadata": {},
   "outputs": [
    {
     "data": {
      "text/html": [
       "<div>\n",
       "<style scoped>\n",
       "    .dataframe tbody tr th:only-of-type {\n",
       "        vertical-align: middle;\n",
       "    }\n",
       "\n",
       "    .dataframe tbody tr th {\n",
       "        vertical-align: top;\n",
       "    }\n",
       "\n",
       "    .dataframe thead th {\n",
       "        text-align: right;\n",
       "    }\n",
       "</style>\n",
       "<table border=\"1\" class=\"dataframe\">\n",
       "  <thead>\n",
       "    <tr style=\"text-align: right;\">\n",
       "      <th></th>\n",
       "      <th>Variance</th>\n",
       "      <th>Skewness</th>\n",
       "      <th>Curtosis</th>\n",
       "      <th>Entropy</th>\n",
       "      <th>Class</th>\n",
       "    </tr>\n",
       "  </thead>\n",
       "  <tbody>\n",
       "    <tr>\n",
       "      <th>0</th>\n",
       "      <td>3.62160</td>\n",
       "      <td>8.6661</td>\n",
       "      <td>-2.8073</td>\n",
       "      <td>-0.44699</td>\n",
       "      <td>0</td>\n",
       "    </tr>\n",
       "    <tr>\n",
       "      <th>1</th>\n",
       "      <td>4.54590</td>\n",
       "      <td>8.1674</td>\n",
       "      <td>-2.4586</td>\n",
       "      <td>-1.46210</td>\n",
       "      <td>0</td>\n",
       "    </tr>\n",
       "    <tr>\n",
       "      <th>2</th>\n",
       "      <td>3.86600</td>\n",
       "      <td>-2.6383</td>\n",
       "      <td>1.9242</td>\n",
       "      <td>0.10645</td>\n",
       "      <td>0</td>\n",
       "    </tr>\n",
       "    <tr>\n",
       "      <th>3</th>\n",
       "      <td>3.45660</td>\n",
       "      <td>9.5228</td>\n",
       "      <td>-4.0112</td>\n",
       "      <td>-3.59440</td>\n",
       "      <td>0</td>\n",
       "    </tr>\n",
       "    <tr>\n",
       "      <th>4</th>\n",
       "      <td>0.32924</td>\n",
       "      <td>-4.4552</td>\n",
       "      <td>4.5718</td>\n",
       "      <td>-0.98880</td>\n",
       "      <td>0</td>\n",
       "    </tr>\n",
       "  </tbody>\n",
       "</table>\n",
       "</div>"
      ],
      "text/plain": [
       "   Variance  Skewness  Curtosis  Entropy  Class\n",
       "0   3.62160    8.6661   -2.8073 -0.44699      0\n",
       "1   4.54590    8.1674   -2.4586 -1.46210      0\n",
       "2   3.86600   -2.6383    1.9242  0.10645      0\n",
       "3   3.45660    9.5228   -4.0112 -3.59440      0\n",
       "4   0.32924   -4.4552    4.5718 -0.98880      0"
      ]
     },
     "execution_count": 35,
     "metadata": {},
     "output_type": "execute_result"
    }
   ],
   "source": [
    "bankdata.head()"
   ]
  },
  {
   "cell_type": "code",
   "execution_count": 36,
   "metadata": {},
   "outputs": [
    {
     "data": {
      "text/plain": [
       "(1372, 5)"
      ]
     },
     "execution_count": 36,
     "metadata": {},
     "output_type": "execute_result"
    }
   ],
   "source": [
    "bankdata.shape"
   ]
  },
  {
   "cell_type": "code",
   "execution_count": 37,
   "metadata": {},
   "outputs": [],
   "source": [
    "X=bankdata.drop('Class',axis=1)\n",
    "y=bankdata['Class']\n"
   ]
  },
  {
   "cell_type": "code",
   "execution_count": 38,
   "metadata": {},
   "outputs": [
    {
     "data": {
      "text/html": [
       "<div>\n",
       "<style scoped>\n",
       "    .dataframe tbody tr th:only-of-type {\n",
       "        vertical-align: middle;\n",
       "    }\n",
       "\n",
       "    .dataframe tbody tr th {\n",
       "        vertical-align: top;\n",
       "    }\n",
       "\n",
       "    .dataframe thead th {\n",
       "        text-align: right;\n",
       "    }\n",
       "</style>\n",
       "<table border=\"1\" class=\"dataframe\">\n",
       "  <thead>\n",
       "    <tr style=\"text-align: right;\">\n",
       "      <th></th>\n",
       "      <th>Variance</th>\n",
       "      <th>Skewness</th>\n",
       "      <th>Curtosis</th>\n",
       "      <th>Entropy</th>\n",
       "      <th>Class</th>\n",
       "    </tr>\n",
       "  </thead>\n",
       "  <tbody>\n",
       "    <tr>\n",
       "      <th>count</th>\n",
       "      <td>1372.000000</td>\n",
       "      <td>1372.000000</td>\n",
       "      <td>1372.000000</td>\n",
       "      <td>1372.000000</td>\n",
       "      <td>1372.000000</td>\n",
       "    </tr>\n",
       "    <tr>\n",
       "      <th>mean</th>\n",
       "      <td>0.433735</td>\n",
       "      <td>1.922353</td>\n",
       "      <td>1.397627</td>\n",
       "      <td>-1.191657</td>\n",
       "      <td>0.444606</td>\n",
       "    </tr>\n",
       "    <tr>\n",
       "      <th>std</th>\n",
       "      <td>2.842763</td>\n",
       "      <td>5.869047</td>\n",
       "      <td>4.310030</td>\n",
       "      <td>2.101013</td>\n",
       "      <td>0.497103</td>\n",
       "    </tr>\n",
       "    <tr>\n",
       "      <th>min</th>\n",
       "      <td>-7.042100</td>\n",
       "      <td>-13.773100</td>\n",
       "      <td>-5.286100</td>\n",
       "      <td>-8.548200</td>\n",
       "      <td>0.000000</td>\n",
       "    </tr>\n",
       "    <tr>\n",
       "      <th>25%</th>\n",
       "      <td>-1.773000</td>\n",
       "      <td>-1.708200</td>\n",
       "      <td>-1.574975</td>\n",
       "      <td>-2.413450</td>\n",
       "      <td>0.000000</td>\n",
       "    </tr>\n",
       "    <tr>\n",
       "      <th>50%</th>\n",
       "      <td>0.496180</td>\n",
       "      <td>2.319650</td>\n",
       "      <td>0.616630</td>\n",
       "      <td>-0.586650</td>\n",
       "      <td>0.000000</td>\n",
       "    </tr>\n",
       "    <tr>\n",
       "      <th>75%</th>\n",
       "      <td>2.821475</td>\n",
       "      <td>6.814625</td>\n",
       "      <td>3.179250</td>\n",
       "      <td>0.394810</td>\n",
       "      <td>1.000000</td>\n",
       "    </tr>\n",
       "    <tr>\n",
       "      <th>max</th>\n",
       "      <td>6.824800</td>\n",
       "      <td>12.951600</td>\n",
       "      <td>17.927400</td>\n",
       "      <td>2.449500</td>\n",
       "      <td>1.000000</td>\n",
       "    </tr>\n",
       "  </tbody>\n",
       "</table>\n",
       "</div>"
      ],
      "text/plain": [
       "          Variance     Skewness     Curtosis      Entropy        Class\n",
       "count  1372.000000  1372.000000  1372.000000  1372.000000  1372.000000\n",
       "mean      0.433735     1.922353     1.397627    -1.191657     0.444606\n",
       "std       2.842763     5.869047     4.310030     2.101013     0.497103\n",
       "min      -7.042100   -13.773100    -5.286100    -8.548200     0.000000\n",
       "25%      -1.773000    -1.708200    -1.574975    -2.413450     0.000000\n",
       "50%       0.496180     2.319650     0.616630    -0.586650     0.000000\n",
       "75%       2.821475     6.814625     3.179250     0.394810     1.000000\n",
       "max       6.824800    12.951600    17.927400     2.449500     1.000000"
      ]
     },
     "execution_count": 38,
     "metadata": {},
     "output_type": "execute_result"
    }
   ],
   "source": [
    "bankdata.describe()"
   ]
  },
  {
   "cell_type": "code",
   "execution_count": 22,
   "metadata": {},
   "outputs": [
    {
     "data": {
      "text/plain": [
       "Class\n",
       "0    [[AxesSubplot(0.125,0.551739;0.336957x0.328261...\n",
       "1    [[AxesSubplot(0.125,0.551739;0.336957x0.328261...\n",
       "dtype: object"
      ]
     },
     "execution_count": 22,
     "metadata": {},
     "output_type": "execute_result"
    },
    {
     "data": {
      "image/png": "[encoded data removed]",
      "text/plain": [
       "<Figure size 432x288 with 4 Axes>"
      ]
     },
     "metadata": {
      "needs_background": "light"
     },
     "output_type": "display_data"
    },
    {
     "data": {
      "image/png": "[encoded data removed]",
      "text/plain": [
       "<Figure size 432x288 with 4 Axes>"
      ]
     },
     "metadata": {
      "needs_background": "light"
     },
     "output_type": "display_data"
    }
   ],
   "source": [
    "bankdata.groupby('Class').hist()"
   ]
  },
  {
   "cell_type": "code",
   "execution_count": 23,
   "metadata": {},
   "outputs": [
    {
     "name": "stdout",
     "output_type": "stream",
     "text": [
      "<class 'pandas.core.frame.DataFrame'>\n",
      "RangeIndex: 1372 entries, 0 to 1371\n",
      "Data columns (total 5 columns):\n",
      "Variance    1372 non-null float64\n",
      "Skewness    1372 non-null float64\n",
      "Curtosis    1372 non-null float64\n",
      "Entropy     1372 non-null float64\n",
      "Class       1372 non-null int64\n",
      "dtypes: float64(4), int64(1)\n",
      "memory usage: 53.7 KB\n"
     ]
    }
   ],
   "source": [
    "bankdata.info()"
   ]
  },
  {
   "cell_type": "code",
   "execution_count": 24,
   "metadata": {},
   "outputs": [],
   "source": [
    "# test train split\n",
    "from sklearn.model_selection import train_test_split\n",
    "X_train,X_test,y_train,y_test=train_test_split(X,y,test_size=0.20)"
   ]
  },
  {
   "cell_type": "code",
   "execution_count": 25,
   "metadata": {},
   "outputs": [
    {
     "data": {
      "text/plain": [
       "SVC(C=1.0, cache_size=200, class_weight=None, coef0=0.0,\n",
       "  decision_function_shape='ovr', degree=3, gamma='auto_deprecated',\n",
       "  kernel='linear', max_iter=-1, probability=True, random_state=None,\n",
       "  shrinking=True, tol=0.001, verbose=False)"
      ]
     },
     "execution_count": 25,
     "metadata": {},
     "output_type": "execute_result"
    }
   ],
   "source": [
    "from sklearn.svm import SVC\n",
    "clf=SVC(kernel='linear',probability=True)\n",
    "clf.fit(X_train, y_train)"
   ]
  },
  {
   "cell_type": "code",
   "execution_count": 26,
   "metadata": {},
   "outputs": [
    {
     "data": {
      "text/plain": [
       "array([0, 0, 0, 0, 1, 0, 1, 0, 1, 0, 0, 1, 1, 1, 0, 1, 0, 0, 0, 1, 1, 1,\n",
       "       0, 1, 0, 0, 1, 0, 0, 1, 1, 0, 0, 0, 1, 0, 0, 1, 0, 0, 0, 1, 0, 1,\n",
       "       0, 0, 0, 1, 1, 1, 0, 0, 1, 1, 0, 1, 1, 1, 0, 1, 0, 0, 0, 0, 1, 0,\n",
       "       1, 0, 0, 0, 0, 1, 1, 1, 0, 1, 1, 0, 0, 0, 1, 0, 0, 0, 0, 1, 1, 1,\n",
       "       0, 0, 1, 1, 0, 0, 1, 0, 1, 1, 0, 0, 1, 0, 1, 1, 0, 1, 1, 1, 0, 0,\n",
       "       0, 0, 1, 1, 1, 0, 1, 0, 0, 0, 1, 0, 0, 0, 1, 1, 1, 1, 1, 0, 0, 0,\n",
       "       1, 1, 0, 1, 1, 0, 0, 1, 0, 1, 0, 0, 0, 0, 0, 0, 1, 0, 1, 0, 0, 0,\n",
       "       1, 0, 1, 1, 0, 0, 1, 0, 0, 0, 1, 1, 1, 0, 1, 1, 0, 1, 0, 1, 1, 0,\n",
       "       0, 1, 0, 0, 0, 1, 1, 0, 0, 0, 1, 1, 0, 1, 0, 0, 0, 0, 1, 0, 0, 1,\n",
       "       1, 0, 0, 0, 0, 1, 0, 0, 0, 0, 0, 0, 0, 0, 0, 0, 1, 1, 1, 1, 0, 0,\n",
       "       0, 1, 1, 1, 0, 0, 0, 0, 0, 1, 0, 0, 0, 1, 0, 0, 1, 1, 1, 0, 1, 1,\n",
       "       1, 0, 0, 1, 0, 1, 1, 1, 1, 1, 0, 0, 0, 0, 0, 1, 1, 0, 0, 0, 1, 1,\n",
       "       1, 1, 0, 1, 1, 1, 0, 1, 1, 0, 0], dtype=int64)"
      ]
     },
     "execution_count": 26,
     "metadata": {},
     "output_type": "execute_result"
    }
   ],
   "source": [
    "# making predictions\n",
    "y_pred=clf.predict(X_test)\n",
    "y_pred"
   ]
  },
  {
   "cell_type": "code",
   "execution_count": 27,
   "metadata": {},
   "outputs": [
    {
     "data": {
      "text/plain": [
       "array([[  0.5195  ,  -3.2633  ,   3.0895  ,  -0.9849  ],\n",
       "       [  0.32924 ,  -4.4552  ,   4.5718  ,  -0.9888  ],\n",
       "       [  0.5706  ,  -0.024841,   1.2421  ,  -0.56208 ],\n",
       "       [  0.5195  ,  -3.2633  ,   3.0895  ,  -0.9849  ],\n",
       "       [  0.3798  ,   0.7098  ,   0.7572  ,  -0.4444  ],\n",
       "       [  0.3292  ,  -4.4552  ,   4.5718  ,  -0.9888  ],\n",
       "       [  0.3798  ,   0.7098  ,   0.7572  ,  -0.4444  ],\n",
       "       [  0.5195  ,  -3.2633  ,   3.0895  ,  -0.9849  ],\n",
       "       [ -1.8584  ,   7.886   ,  -1.6643  ,  -1.8384  ],\n",
       "       [  0.3798  ,   0.7098  ,   0.7572  ,  -0.4444  ],\n",
       "       [  0.3292  ,  -4.4552  ,   4.5718  ,  -0.9888  ],\n",
       "       [  0.5195  ,  -3.2633  ,   3.0895  ,  -0.9849  ],\n",
       "       [ -1.8584  ,   7.886   ,  -1.6643  ,  -1.8384  ],\n",
       "       [  0.5706  ,  -0.0248  ,   1.2421  ,  -0.5621  ],\n",
       "       [  0.51947 ,  -3.2633  ,   3.0895  ,  -0.98492 ],\n",
       "       [  0.3292  ,  -4.4552  ,   4.5718  ,  -0.9888  ],\n",
       "       [  0.5706  ,  -0.0248  ,   1.2421  ,  -0.5621  ],\n",
       "       [  0.3292  ,  -4.4552  ,   4.5718  ,  -0.9888  ],\n",
       "       [  0.5706  ,  -0.0248  ,   1.2421  ,  -0.5621  ],\n",
       "       [  2.1943  ,   4.5503  ,  -4.976   ,  -2.7254  ],\n",
       "       [ -3.3793  , -13.7731  ,  17.9274  ,  -2.0323  ],\n",
       "       [  2.2279  ,   4.0951  ,  -4.8037  ,  -2.1112  ],\n",
       "       [  1.5904  ,   2.2121  ,  -3.1183  ,  -0.11725 ],\n",
       "       [ -3.1875  ,  -7.5756  ,  11.8678  ,  -0.57889 ],\n",
       "       [ -3.5985  , -13.6593  ,  17.6052  ,  -2.4927  ],\n",
       "       [ -2.902   ,  -7.6563  ,  11.8318  ,  -0.84268 ],\n",
       "       [  1.5631  ,   0.89599 ,  -1.9702  ,   0.65472 ],\n",
       "       [ -2.8391  ,  -6.63    ,  10.4849  ,  -0.42113 ],\n",
       "       [ -1.7279  ,  -6.841   ,   8.9494  ,   0.68058 ],\n",
       "       [ -3.1273  ,  -7.1121  ,  11.3897  ,  -0.083634],\n",
       "       [  1.4501  ,   3.6067  ,  -4.0557  ,  -1.5966  ],\n",
       "       [  1.7331  ,   3.9544  ,  -4.7412  ,  -2.5017  ],\n",
       "       [  0.31803 ,  -0.99326 ,   1.0947  ,   0.88619 ],\n",
       "       [ -3.2305  ,  -7.2135  ,  11.6433  ,  -0.94613 ],\n",
       "       [  1.581   ,   0.86909 ,  -2.3138  ,   0.82412 ],\n",
       "       [  1.6799  ,   4.2068  ,  -4.5398  ,  -2.3931  ],\n",
       "       [  2.3917  ,   4.5565  ,  -4.9888  ,  -2.8987  ],\n",
       "       [  1.4896  ,   3.4288  ,  -4.0309  ,  -1.4259  ],\n",
       "       [  2.0177  ,   1.7982  ,  -2.9581  ,   0.2099  ]])"
      ]
     },
     "execution_count": 27,
     "metadata": {},
     "output_type": "execute_result"
    }
   ],
   "source": [
    "clf.support_vectors_"
   ]
  },
  {
   "cell_type": "code",
   "execution_count": 28,
   "metadata": {},
   "outputs": [
    {
     "data": {
      "text/plain": [
       "39"
      ]
     },
     "execution_count": 28,
     "metadata": {},
     "output_type": "execute_result"
    }
   ],
   "source": [
    "len(clf.support_vectors_)"
   ]
  },
  {
   "cell_type": "code",
   "execution_count": 29,
   "metadata": {},
   "outputs": [
    {
     "data": {
      "text/plain": [
       "0.9927272727272727"
      ]
     },
     "execution_count": 29,
     "metadata": {},
     "output_type": "execute_result"
    }
   ],
   "source": [
    "clf.score(X_test,y_test)"
   ]
  },
  {
   "cell_type": "code",
   "execution_count": 30,
   "metadata": {},
   "outputs": [
    {
     "name": "stdout",
     "output_type": "stream",
     "text": [
      "[[152   0]\n",
      " [  2 121]]\n",
      "              precision    recall  f1-score   support\n",
      "\n",
      "           0       0.99      1.00      0.99       152\n",
      "           1       1.00      0.98      0.99       123\n",
      "\n",
      "   micro avg       0.99      0.99      0.99       275\n",
      "   macro avg       0.99      0.99      0.99       275\n",
      "weighted avg       0.99      0.99      0.99       275\n",
      "\n"
     ]
    }
   ],
   "source": [
    "from sklearn.metrics import classification_report, confusion_matrix\n",
    "print(confusion_matrix(y_test,y_pred))\n",
    "print(classification_report(y_test,y_pred))"
   ]
  },
  {
   "cell_type": "code",
   "execution_count": 39,
   "metadata": {},
   "outputs": [],
   "source": [
    "from sklearn.metrics import roc_curve\n",
    "from sklearn.metrics import roc_auc_score"
   ]
  },
  {
   "cell_type": "code",
   "execution_count": 40,
   "metadata": {},
   "outputs": [],
   "source": [
    "def plot_roc_curve(fpr,tpr):\n",
    "    plt.plot(fpr,tpr,color='orange',label='ROC')\n",
    "    plt.plot([0,1],[0,1],color='darkblue',linestyle='--')\n",
    "    plt.xlabel('false positive rate')\n",
    "    plt.ylabel('true positive rate')\n",
    "    plt.title('receiver operating characteristict(ROC) curve')\n",
    "    plt.legend()\n",
    "    plt.show()"
   ]
  },
  {
   "cell_type": "code",
   "execution_count": 43,
   "metadata": {},
   "outputs": [
    {
     "data": {
      "text/plain": [
       "array([[9.99999900e-01, 1.00000010e-07],\n",
       "       [9.99999900e-01, 1.00000010e-07],\n",
       "       [9.99999664e-01, 3.35821046e-07],\n",
       "       [9.99999900e-01, 1.00000010e-07],\n",
       "       [9.05458640e-06, 9.99990945e-01],\n",
       "       [9.99999900e-01, 1.00000010e-07],\n",
       "       [6.33620074e-07, 9.99999366e-01],\n",
       "       [9.99980710e-01, 1.92895779e-05],\n",
       "       [2.56904462e-07, 9.99999743e-01],\n",
       "       [9.99998093e-01, 1.90668338e-06],\n",
       "       [9.99999900e-01, 1.00000010e-07],\n",
       "       [2.31042199e-07, 9.99999769e-01],\n",
       "       [1.18026304e-10, 1.00000000e+00],\n",
       "       [2.69221489e-07, 9.99999731e-01],\n",
       "       [9.25175054e-01, 7.48249457e-02],\n",
       "       [8.09577515e-08, 9.99999919e-01],\n",
       "       [9.99999900e-01, 1.00000010e-07],\n",
       "       [9.99999900e-01, 1.00000010e-07],\n",
       "       [9.99989770e-01, 1.02301324e-05],\n",
       "       [1.03570209e-10, 1.00000000e+00],\n",
       "       [5.06765363e-08, 9.99999949e-01],\n",
       "       [1.05361912e-08, 9.99999989e-01],\n",
       "       [9.99999731e-01, 2.68623709e-07],\n",
       "       [2.25940541e-12, 1.00000000e+00],\n",
       "       [9.99999495e-01, 5.04966440e-07],\n",
       "       [9.99999788e-01, 2.12385809e-07],\n",
       "       [2.01651579e-06, 9.99997983e-01],\n",
       "       [9.99496478e-01, 5.03522213e-04],\n",
       "       [9.90979994e-01, 9.02000572e-03],\n",
       "       [2.47920199e-08, 9.99999975e-01],\n",
       "       [6.46172091e-08, 9.99999935e-01],\n",
       "       [9.99999710e-01, 2.90006780e-07],\n",
       "       [7.61266636e-01, 2.38733364e-01],\n",
       "       [9.99999621e-01, 3.79030457e-07],\n",
       "       [5.46585004e-02, 9.45341500e-01],\n",
       "       [9.99999900e-01, 1.00000010e-07],\n",
       "       [9.99999387e-01, 6.12977273e-07],\n",
       "       [7.46648925e-02, 9.25335108e-01],\n",
       "       [9.99999900e-01, 1.00000010e-07],\n",
       "       [9.99999900e-01, 1.00000010e-07],\n",
       "       [9.99934952e-01, 6.50476261e-05],\n",
       "       [8.07265065e-10, 9.99999999e-01],\n",
       "       [9.99999900e-01, 1.00000010e-07],\n",
       "       [2.76753432e-01, 7.23246568e-01],\n",
       "       [9.99998586e-01, 1.41361104e-06],\n",
       "       [9.97112941e-01, 2.88705896e-03],\n",
       "       [9.99999900e-01, 1.00000010e-07],\n",
       "       [1.29972052e-07, 9.99999870e-01],\n",
       "       [7.51727925e-03, 9.92482721e-01],\n",
       "       [3.20765698e-07, 9.99999679e-01],\n",
       "       [9.99999518e-01, 4.82227032e-07],\n",
       "       [9.99999900e-01, 1.00000010e-07],\n",
       "       [3.23438052e-03, 9.96765619e-01],\n",
       "       [3.91325342e-06, 9.99996087e-01],\n",
       "       [9.99984039e-01, 1.59614747e-05],\n",
       "       [5.58254963e-07, 9.99999442e-01],\n",
       "       [5.19367702e-06, 9.99994806e-01],\n",
       "       [1.55247651e-10, 1.00000000e+00],\n",
       "       [9.99999900e-01, 1.00000010e-07],\n",
       "       [1.17172296e-10, 1.00000000e+00],\n",
       "       [9.99392596e-01, 6.07404081e-04],\n",
       "       [9.99993332e-01, 6.66804366e-06],\n",
       "       [9.99999842e-01, 1.57961537e-07],\n",
       "       [9.99998470e-01, 1.52995024e-06],\n",
       "       [5.50476315e-07, 9.99999450e-01],\n",
       "       [9.99999728e-01, 2.71816524e-07],\n",
       "       [1.27520729e-02, 9.87247927e-01],\n",
       "       [9.99999526e-01, 4.74036876e-07],\n",
       "       [9.99999900e-01, 1.00000010e-07],\n",
       "       [9.99999900e-01, 1.00000010e-07],\n",
       "       [6.92826049e-01, 3.07173951e-01],\n",
       "       [3.40688389e-03, 9.96593116e-01],\n",
       "       [5.55825379e-08, 9.99999944e-01],\n",
       "       [3.71327656e-03, 9.96286723e-01],\n",
       "       [9.99998983e-01, 1.01698396e-06],\n",
       "       [4.37739195e-12, 1.00000000e+00],\n",
       "       [1.89496565e-02, 9.81050344e-01],\n",
       "       [9.99999748e-01, 2.51551700e-07],\n",
       "       [9.99999900e-01, 1.00000010e-07],\n",
       "       [9.99999900e-01, 1.00000010e-07],\n",
       "       [1.06523498e-02, 9.89347650e-01],\n",
       "       [9.99998124e-01, 1.87567508e-06],\n",
       "       [7.24427740e-01, 2.75572260e-01],\n",
       "       [9.99999713e-01, 2.86685648e-07],\n",
       "       [4.93477143e-01, 5.06522857e-01],\n",
       "       [4.66133201e-06, 9.99995339e-01],\n",
       "       [1.44997809e-08, 9.99999986e-01],\n",
       "       [1.46022911e-02, 9.85397709e-01],\n",
       "       [9.99999900e-01, 1.00000010e-07],\n",
       "       [9.99203485e-01, 7.96514805e-04],\n",
       "       [4.08557476e-06, 9.99995914e-01],\n",
       "       [7.16026786e-08, 9.99999928e-01],\n",
       "       [9.99979606e-01, 2.03938123e-05],\n",
       "       [9.34243580e-01, 6.57564202e-02],\n",
       "       [1.88386976e-07, 9.99999812e-01],\n",
       "       [9.99999900e-01, 1.00000010e-07],\n",
       "       [3.85474421e-02, 9.61452558e-01],\n",
       "       [2.31117957e-07, 9.99999769e-01],\n",
       "       [9.99991273e-01, 8.72729636e-06],\n",
       "       [9.99999900e-01, 1.00000010e-07],\n",
       "       [5.81611484e-09, 9.99999994e-01],\n",
       "       [9.99998473e-01, 1.52679536e-06],\n",
       "       [2.73197745e-02, 9.72680225e-01],\n",
       "       [4.11046930e-02, 9.58895307e-01],\n",
       "       [6.92814311e-01, 3.07185689e-01],\n",
       "       [2.42584663e-09, 9.99999998e-01],\n",
       "       [1.41157545e-01, 8.58842455e-01],\n",
       "       [3.91843925e-10, 1.00000000e+00],\n",
       "       [9.99999900e-01, 1.00000010e-07],\n",
       "       [9.99999844e-01, 1.56322960e-07],\n",
       "       [4.40527340e-01, 5.59472660e-01],\n",
       "       [9.99995322e-01, 4.67766349e-06],\n",
       "       [4.65455965e-07, 9.99999535e-01],\n",
       "       [1.46957638e-01, 8.53042362e-01],\n",
       "       [7.49941341e-02, 9.25005866e-01],\n",
       "       [9.99999772e-01, 2.27958104e-07],\n",
       "       [2.02363316e-07, 9.99999798e-01],\n",
       "       [9.99999857e-01, 1.43295918e-07],\n",
       "       [9.99984914e-01, 1.50856349e-05],\n",
       "       [9.99999900e-01, 1.00000010e-07],\n",
       "       [1.61025259e-05, 9.99983897e-01],\n",
       "       [9.99999900e-01, 1.00000010e-07],\n",
       "       [9.99998336e-01, 1.66358579e-06],\n",
       "       [9.99999900e-01, 1.00000010e-07],\n",
       "       [1.32698574e-07, 9.99999867e-01],\n",
       "       [9.72563242e-10, 9.99999999e-01],\n",
       "       [1.57561773e-01, 8.42438227e-01],\n",
       "       [4.10997793e-06, 9.99995890e-01],\n",
       "       [3.20602119e-09, 9.99999997e-01],\n",
       "       [9.99999574e-01, 4.25772548e-07],\n",
       "       [9.99999900e-01, 1.00000010e-07],\n",
       "       [9.99999900e-01, 1.00000010e-07],\n",
       "       [4.72470096e-02, 9.52752990e-01],\n",
       "       [1.46634883e-06, 9.99998534e-01],\n",
       "       [9.57276314e-01, 4.27236859e-02],\n",
       "       [3.75316740e-03, 9.96246833e-01],\n",
       "       [5.03116141e-03, 9.94968839e-01],\n",
       "       [9.99999229e-01, 7.71133633e-07],\n",
       "       [9.99986521e-01, 1.34786962e-05],\n",
       "       [6.18986009e-06, 9.99993810e-01],\n",
       "       [9.99999900e-01, 1.00000010e-07],\n",
       "       [7.30316136e-02, 9.26968386e-01],\n",
       "       [9.99646165e-01, 3.53835004e-04],\n",
       "       [9.99988479e-01, 1.15210093e-05],\n",
       "       [9.99997641e-01, 2.35863539e-06],\n",
       "       [9.99999900e-01, 1.00000010e-07],\n",
       "       [9.99996568e-01, 3.43192966e-06],\n",
       "       [9.99999545e-01, 4.55312496e-07],\n",
       "       [7.73942110e-02, 9.22605789e-01],\n",
       "       [9.99999670e-01, 3.29712599e-07],\n",
       "       [3.88394157e-03, 9.96116058e-01],\n",
       "       [9.99999900e-01, 1.00000010e-07],\n",
       "       [9.99999746e-01, 2.53756524e-07],\n",
       "       [9.99882110e-01, 1.17890391e-04],\n",
       "       [3.70973001e-02, 9.62902700e-01],\n",
       "       [9.99999576e-01, 4.24279148e-07],\n",
       "       [8.03395675e-10, 9.99999999e-01],\n",
       "       [8.76323243e-08, 9.99999912e-01],\n",
       "       [9.99999900e-01, 1.00000010e-07],\n",
       "       [9.99998200e-01, 1.79964471e-06],\n",
       "       [3.49392753e-03, 9.96506072e-01],\n",
       "       [9.99999878e-01, 1.21664290e-07],\n",
       "       [9.97758975e-01, 2.24102531e-03],\n",
       "       [9.99969592e-01, 3.04075196e-05],\n",
       "       [1.83571607e-06, 9.99998164e-01],\n",
       "       [1.17261972e-05, 9.99988274e-01],\n",
       "       [1.04319316e-08, 9.99999990e-01],\n",
       "       [9.99955676e-01, 4.43238102e-05],\n",
       "       [1.76560994e-02, 9.82343901e-01],\n",
       "       [5.26375668e-07, 9.99999474e-01],\n",
       "       [9.99999321e-01, 6.78736563e-07],\n",
       "       [5.51615291e-07, 9.99999448e-01],\n",
       "       [9.99999167e-01, 8.32953887e-07],\n",
       "       [3.28174445e-07, 9.99999672e-01],\n",
       "       [1.17326076e-01, 8.82673924e-01],\n",
       "       [9.99984020e-01, 1.59799293e-05],\n",
       "       [9.99787075e-01, 2.12925042e-04],\n",
       "       [2.57281014e-03, 9.97427190e-01],\n",
       "       [9.99999900e-01, 1.00000010e-07],\n",
       "       [9.99999764e-01, 2.35907321e-07],\n",
       "       [9.99999900e-01, 1.00000010e-07],\n",
       "       [1.43642006e-10, 1.00000000e+00],\n",
       "       [6.83475965e-06, 9.99993165e-01],\n",
       "       [9.99999900e-01, 1.00000010e-07],\n",
       "       [9.99999900e-01, 1.00000010e-07],\n",
       "       [9.99999554e-01, 4.46495294e-07],\n",
       "       [7.07286731e-06, 9.99992927e-01],\n",
       "       [2.85331868e-03, 9.97146681e-01],\n",
       "       [9.99999900e-01, 1.00000010e-07],\n",
       "       [4.78282433e-08, 9.99999952e-01],\n",
       "       [9.99976903e-01, 2.30972642e-05],\n",
       "       [9.99999853e-01, 1.46544187e-07],\n",
       "       [9.99999900e-01, 1.00000010e-07],\n",
       "       [9.99993673e-01, 6.32655289e-06],\n",
       "       [4.81142775e-09, 9.99999995e-01],\n",
       "       [9.99999900e-01, 1.00000010e-07],\n",
       "       [9.99999900e-01, 1.00000010e-07],\n",
       "       [5.11368605e-03, 9.94886314e-01],\n",
       "       [3.40817775e-02, 9.65918222e-01],\n",
       "       [9.99965873e-01, 3.41272138e-05],\n",
       "       [9.99634636e-01, 3.65363902e-04],\n",
       "       [9.99999900e-01, 1.00000010e-07],\n",
       "       [9.99999900e-01, 1.00000010e-07],\n",
       "       [1.40016581e-01, 8.59983419e-01],\n",
       "       [9.99999900e-01, 1.00000010e-07],\n",
       "       [9.98815061e-01, 1.18493927e-03],\n",
       "       [9.99999900e-01, 1.00000010e-07],\n",
       "       [9.99991774e-01, 8.22625203e-06],\n",
       "       [9.99999900e-01, 1.00000010e-07],\n",
       "       [9.81986954e-01, 1.80130462e-02],\n",
       "       [9.99997891e-01, 2.10854197e-06],\n",
       "       [9.99983496e-01, 1.65042695e-05],\n",
       "       [9.99933164e-01, 6.68360129e-05],\n",
       "       [9.98286042e-01, 1.71395765e-03],\n",
       "       [3.70096978e-02, 9.62990302e-01],\n",
       "       [3.90888484e-03, 9.96091115e-01],\n",
       "       [3.19022654e-07, 9.99999681e-01],\n",
       "       [2.89453365e-09, 9.99999997e-01],\n",
       "       [9.99999900e-01, 1.00000010e-07],\n",
       "       [9.99912280e-01, 8.77195064e-05],\n",
       "       [9.99999841e-01, 1.58812648e-07],\n",
       "       [1.15512299e-05, 9.99988449e-01],\n",
       "       [6.48655791e-07, 9.99999351e-01],\n",
       "       [3.98683451e-10, 1.00000000e+00],\n",
       "       [9.99937996e-01, 6.20039504e-05],\n",
       "       [9.99999900e-01, 1.00000010e-07],\n",
       "       [9.99999830e-01, 1.70175606e-07],\n",
       "       [9.99999900e-01, 1.00000010e-07],\n",
       "       [9.99999864e-01, 1.35673610e-07],\n",
       "       [1.75139052e-02, 9.82486095e-01],\n",
       "       [9.99392677e-01, 6.07323318e-04],\n",
       "       [9.93251018e-01, 6.74898241e-03],\n",
       "       [9.99485184e-01, 5.14815977e-04],\n",
       "       [1.46629611e-05, 9.99985337e-01],\n",
       "       [9.99999900e-01, 1.00000010e-07],\n",
       "       [9.99658014e-01, 3.41986260e-04],\n",
       "       [6.47176564e-08, 9.99999935e-01],\n",
       "       [5.78309793e-02, 9.42169021e-01],\n",
       "       [1.31140145e-10, 1.00000000e+00],\n",
       "       [9.99999169e-01, 8.30628579e-07],\n",
       "       [6.99539282e-06, 9.99993005e-01],\n",
       "       [3.97717011e-03, 9.96022830e-01],\n",
       "       [4.14399083e-09, 9.99999996e-01],\n",
       "       [9.99999899e-01, 1.00920628e-07],\n",
       "       [9.99999619e-01, 3.80873415e-07],\n",
       "       [2.29839824e-11, 1.00000000e+00],\n",
       "       [9.99999795e-01, 2.05382644e-07],\n",
       "       [1.86525077e-07, 9.99999813e-01],\n",
       "       [9.63983572e-02, 9.03601643e-01],\n",
       "       [8.44330173e-08, 9.99999916e-01],\n",
       "       [4.72540622e-08, 9.99999953e-01],\n",
       "       [6.78468624e-07, 9.99999322e-01],\n",
       "       [9.99999900e-01, 1.00000010e-07],\n",
       "       [9.99999743e-01, 2.56903061e-07],\n",
       "       [9.99999708e-01, 2.91711924e-07],\n",
       "       [9.99999696e-01, 3.04304495e-07],\n",
       "       [9.99993898e-01, 6.10214191e-06],\n",
       "       [3.09781490e-10, 1.00000000e+00],\n",
       "       [2.08926106e-02, 9.79107389e-01],\n",
       "       [9.99995736e-01, 4.26365089e-06],\n",
       "       [9.99998986e-01, 1.01401238e-06],\n",
       "       [9.99999900e-01, 1.00000010e-07],\n",
       "       [4.44543538e-02, 9.55545646e-01],\n",
       "       [2.70191048e-08, 9.99999973e-01],\n",
       "       [4.78628699e-09, 9.99999995e-01],\n",
       "       [1.84682844e-09, 9.99999998e-01],\n",
       "       [9.99998035e-01, 1.96547557e-06],\n",
       "       [3.49677223e-09, 9.99999997e-01],\n",
       "       [2.47094380e-10, 1.00000000e+00],\n",
       "       [7.87374574e-10, 9.99999999e-01],\n",
       "       [9.99999900e-01, 1.00000010e-07],\n",
       "       [6.25228957e-09, 9.99999994e-01],\n",
       "       [1.00318009e-02, 9.89968199e-01],\n",
       "       [9.99984971e-01, 1.50289412e-05],\n",
       "       [9.99999500e-01, 5.00478971e-07]])"
      ]
     },
     "execution_count": 43,
     "metadata": {},
     "output_type": "execute_result"
    }
   ],
   "source": [
    "probs=clf.predict_proba(X_test)\n",
    "probs"
   ]
  },
  {
   "cell_type": "code",
   "execution_count": 44,
   "metadata": {},
   "outputs": [
    {
     "data": {
      "text/plain": [
       "array([1.00000010e-07, 1.00000010e-07, 3.35821046e-07, 1.00000010e-07,\n",
       "       9.99990945e-01, 1.00000010e-07, 9.99999366e-01, 1.92895779e-05,\n",
       "       9.99999743e-01, 1.90668338e-06, 1.00000010e-07, 9.99999769e-01,\n",
       "       1.00000000e+00, 9.99999731e-01, 7.48249457e-02, 9.99999919e-01,\n",
       "       1.00000010e-07, 1.00000010e-07, 1.02301324e-05, 1.00000000e+00,\n",
       "       9.99999949e-01, 9.99999989e-01, 2.68623709e-07, 1.00000000e+00,\n",
       "       5.04966440e-07, 2.12385809e-07, 9.99997983e-01, 5.03522213e-04,\n",
       "       9.02000572e-03, 9.99999975e-01, 9.99999935e-01, 2.90006780e-07,\n",
       "       2.38733364e-01, 3.79030457e-07, 9.45341500e-01, 1.00000010e-07,\n",
       "       6.12977273e-07, 9.25335108e-01, 1.00000010e-07, 1.00000010e-07,\n",
       "       6.50476261e-05, 9.99999999e-01, 1.00000010e-07, 7.23246568e-01,\n",
       "       1.41361104e-06, 2.88705896e-03, 1.00000010e-07, 9.99999870e-01,\n",
       "       9.92482721e-01, 9.99999679e-01, 4.82227032e-07, 1.00000010e-07,\n",
       "       9.96765619e-01, 9.99996087e-01, 1.59614747e-05, 9.99999442e-01,\n",
       "       9.99994806e-01, 1.00000000e+00, 1.00000010e-07, 1.00000000e+00,\n",
       "       6.07404081e-04, 6.66804366e-06, 1.57961537e-07, 1.52995024e-06,\n",
       "       9.99999450e-01, 2.71816524e-07, 9.87247927e-01, 4.74036876e-07,\n",
       "       1.00000010e-07, 1.00000010e-07, 3.07173951e-01, 9.96593116e-01,\n",
       "       9.99999944e-01, 9.96286723e-01, 1.01698396e-06, 1.00000000e+00,\n",
       "       9.81050344e-01, 2.51551700e-07, 1.00000010e-07, 1.00000010e-07,\n",
       "       9.89347650e-01, 1.87567508e-06, 2.75572260e-01, 2.86685648e-07,\n",
       "       5.06522857e-01, 9.99995339e-01, 9.99999986e-01, 9.85397709e-01,\n",
       "       1.00000010e-07, 7.96514805e-04, 9.99995914e-01, 9.99999928e-01,\n",
       "       2.03938123e-05, 6.57564202e-02, 9.99999812e-01, 1.00000010e-07,\n",
       "       9.61452558e-01, 9.99999769e-01, 8.72729636e-06, 1.00000010e-07,\n",
       "       9.99999994e-01, 1.52679536e-06, 9.72680225e-01, 9.58895307e-01,\n",
       "       3.07185689e-01, 9.99999998e-01, 8.58842455e-01, 1.00000000e+00,\n",
       "       1.00000010e-07, 1.56322960e-07, 5.59472660e-01, 4.67766349e-06,\n",
       "       9.99999535e-01, 8.53042362e-01, 9.25005866e-01, 2.27958104e-07,\n",
       "       9.99999798e-01, 1.43295918e-07, 1.50856349e-05, 1.00000010e-07,\n",
       "       9.99983897e-01, 1.00000010e-07, 1.66358579e-06, 1.00000010e-07,\n",
       "       9.99999867e-01, 9.99999999e-01, 8.42438227e-01, 9.99995890e-01,\n",
       "       9.99999997e-01, 4.25772548e-07, 1.00000010e-07, 1.00000010e-07,\n",
       "       9.52752990e-01, 9.99998534e-01, 4.27236859e-02, 9.96246833e-01,\n",
       "       9.94968839e-01, 7.71133633e-07, 1.34786962e-05, 9.99993810e-01,\n",
       "       1.00000010e-07, 9.26968386e-01, 3.53835004e-04, 1.15210093e-05,\n",
       "       2.35863539e-06, 1.00000010e-07, 3.43192966e-06, 4.55312496e-07,\n",
       "       9.22605789e-01, 3.29712599e-07, 9.96116058e-01, 1.00000010e-07,\n",
       "       2.53756524e-07, 1.17890391e-04, 9.62902700e-01, 4.24279148e-07,\n",
       "       9.99999999e-01, 9.99999912e-01, 1.00000010e-07, 1.79964471e-06,\n",
       "       9.96506072e-01, 1.21664290e-07, 2.24102531e-03, 3.04075196e-05,\n",
       "       9.99998164e-01, 9.99988274e-01, 9.99999990e-01, 4.43238102e-05,\n",
       "       9.82343901e-01, 9.99999474e-01, 6.78736563e-07, 9.99999448e-01,\n",
       "       8.32953887e-07, 9.99999672e-01, 8.82673924e-01, 1.59799293e-05,\n",
       "       2.12925042e-04, 9.97427190e-01, 1.00000010e-07, 2.35907321e-07,\n",
       "       1.00000010e-07, 1.00000000e+00, 9.99993165e-01, 1.00000010e-07,\n",
       "       1.00000010e-07, 4.46495294e-07, 9.99992927e-01, 9.97146681e-01,\n",
       "       1.00000010e-07, 9.99999952e-01, 2.30972642e-05, 1.46544187e-07,\n",
       "       1.00000010e-07, 6.32655289e-06, 9.99999995e-01, 1.00000010e-07,\n",
       "       1.00000010e-07, 9.94886314e-01, 9.65918222e-01, 3.41272138e-05,\n",
       "       3.65363902e-04, 1.00000010e-07, 1.00000010e-07, 8.59983419e-01,\n",
       "       1.00000010e-07, 1.18493927e-03, 1.00000010e-07, 8.22625203e-06,\n",
       "       1.00000010e-07, 1.80130462e-02, 2.10854197e-06, 1.65042695e-05,\n",
       "       6.68360129e-05, 1.71395765e-03, 9.62990302e-01, 9.96091115e-01,\n",
       "       9.99999681e-01, 9.99999997e-01, 1.00000010e-07, 8.77195064e-05,\n",
       "       1.58812648e-07, 9.99988449e-01, 9.99999351e-01, 1.00000000e+00,\n",
       "       6.20039504e-05, 1.00000010e-07, 1.70175606e-07, 1.00000010e-07,\n",
       "       1.35673610e-07, 9.82486095e-01, 6.07323318e-04, 6.74898241e-03,\n",
       "       5.14815977e-04, 9.99985337e-01, 1.00000010e-07, 3.41986260e-04,\n",
       "       9.99999935e-01, 9.42169021e-01, 1.00000000e+00, 8.30628579e-07,\n",
       "       9.99993005e-01, 9.96022830e-01, 9.99999996e-01, 1.00920628e-07,\n",
       "       3.80873415e-07, 1.00000000e+00, 2.05382644e-07, 9.99999813e-01,\n",
       "       9.03601643e-01, 9.99999916e-01, 9.99999953e-01, 9.99999322e-01,\n",
       "       1.00000010e-07, 2.56903061e-07, 2.91711924e-07, 3.04304495e-07,\n",
       "       6.10214191e-06, 1.00000000e+00, 9.79107389e-01, 4.26365089e-06,\n",
       "       1.01401238e-06, 1.00000010e-07, 9.55545646e-01, 9.99999973e-01,\n",
       "       9.99999995e-01, 9.99999998e-01, 1.96547557e-06, 9.99999997e-01,\n",
       "       1.00000000e+00, 9.99999999e-01, 1.00000010e-07, 9.99999994e-01,\n",
       "       9.89968199e-01, 1.50289412e-05, 5.00478971e-07])"
      ]
     },
     "execution_count": 44,
     "metadata": {},
     "output_type": "execute_result"
    }
   ],
   "source": [
    "probs=probs[:,1]\n",
    "probs"
   ]
  },
  {
   "cell_type": "code",
   "execution_count": 45,
   "metadata": {},
   "outputs": [
    {
     "name": "stdout",
     "output_type": "stream",
     "text": [
      "AUC:1.00\n"
     ]
    }
   ],
   "source": [
    "auc=roc_auc_score(y_test,probs)\n",
    "print('AUC:%.2f'%auc)"
   ]
  },
  {
   "cell_type": "code",
   "execution_count": 46,
   "metadata": {},
   "outputs": [],
   "source": [
    "fpr,tpr,thresholds=roc_curve(y_test,probs)"
   ]
  },
  {
   "cell_type": "code",
   "execution_count": 47,
   "metadata": {},
   "outputs": [
    {
     "data": {
      "image/png": "[encoded data removed]",
      "text/plain": [
       "<Figure size 432x288 with 1 Axes>"
      ]
     },
     "metadata": {
      "needs_background": "light"
     },
     "output_type": "display_data"
    }
   ],
   "source": [
    "plot_roc_curve(fpr,tpr)"
   ]
  },
  {
   "cell_type": "code",
   "execution_count": null,
   "metadata": {},
   "outputs": [],
   "source": []
  }
 ],
 "metadata": {
  "kernelspec": {
   "display_name": "Python 3",
   "language": "python",
   "name": "python3"
  },
  "language_info": {
   "codemirror_mode": {
    "name": "ipython",
    "version": 3
   },
   "file_extension": ".py",
   "mimetype": "text/x-python",
   "name": "python",
   "nbconvert_exporter": "python",
   "pygments_lexer": "ipython3",
   "version": "3.7.3"
  }
 },
 "nbformat": 4,
 "nbformat_minor": 2
}
